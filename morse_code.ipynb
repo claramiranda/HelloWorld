{
  "nbformat": 4,
  "nbformat_minor": 0,
  "metadata": {
    "colab": {
      "name": "morse_code.ipynb",
      "provenance": [],
      "collapsed_sections": [],
      "authorship_tag": "ABX9TyMRvKBbdKvZRLPM+E9j/+1w",
      "include_colab_link": true
    },
    "kernelspec": {
      "name": "python3",
      "display_name": "Python 3"
    }
  },
  "cells": [
    {
      "cell_type": "markdown",
      "metadata": {
        "id": "view-in-github",
        "colab_type": "text"
      },
      "source": [
        "<a href=\"https://colab.research.google.com/github/claramiranda/HelloWorld/blob/master/morse_code.ipynb\" target=\"_parent\"><img src=\"https://colab.research.google.com/assets/colab-badge.svg\" alt=\"Open In Colab\"/></a>"
      ]
    },
    {
      "cell_type": "code",
      "metadata": {
        "colab": {
          "base_uri": "https://localhost:8080/"
        },
        "id": "_yutuzDOGXgy",
        "outputId": "6bc7eac7-32fa-4009-9e7a-ed0d4f81e1f5"
      },
      "source": [
        "print(\"Hello World\")"
      ],
      "execution_count": 3,
      "outputs": [
        {
          "output_type": "stream",
          "text": [
            "Hello World\n"
          ],
          "name": "stdout"
        }
      ]
    },
    {
      "cell_type": "markdown",
      "metadata": {
        "id": "hlVo4Q6tG2Sp"
      },
      "source": [
        "Exercício 2 - Código Morse\n",
        "Escreva uma função em Python que recebe uma mensagem (string) e retorna seu equivalente em código Morse.\n",
        "\n",
        "Entrada1: \"HELP ME !\"\n",
        "\n",
        "Saída1: \".... . .-.. .--. -- . -.-.--\"\n",
        "\n",
        "Especificações:\n",
        "\n",
        "A entrada pode conter letras maísculas e/ou minúsculas\n",
        "A entrada pode também conter números e caracteres especiais (vígulas, exclamações, etc)\n",
        "Um espaçco em branco na saída é esperado após cada caracter, exceto o último\n",
        "Para referência, usar o dicionário de mapeamento Morse abaixo:"
      ]
    },
    {
      "cell_type": "code",
      "metadata": {
        "colab": {
          "base_uri": "https://localhost:8080/"
        },
        "id": "8e614eVzG4SL",
        "outputId": "77d85754-95b7-4d5b-a450-03100a5de7bf"
      },
      "source": [
        "char_to_dots = {\n",
        "  'A': '.-', 'B': '-...', 'C': '-.-.', 'D': '-..', 'E': '.', 'F': '..-.',\n",
        "  'G': '--.', 'H': '....', 'I': '..', 'J': '.---', 'K': '-.-', 'L': '.-..',\n",
        "  'M': '--', 'N': '-.', 'O': '---', 'P': '.--.', 'Q': '--.-', 'R': '.-.',\n",
        "  'S': '...', 'T': '-', 'U': '..-', 'V': '...-', 'W': '.--', 'X': '-..-',\n",
        "  'Y': '-.--', 'Z': '--..', ' ': ' ', '0': '-----',\n",
        "  '1': '.----', '2': '..---', '3': '...--', '4': '....-', '5': '.....',\n",
        "  '6': '-....', '7': '--...', '8': '---..', '9': '----.',\n",
        "  '&': '.-...', \"'\": '.----.', '@': '.--.-.', ')': '-.--.-', '(': '-.--.',\n",
        "  ':': '---...', ',': '--..--', '=': '-...-', '!': '-.-.--', '.': '.-.-.-',\n",
        "  '-': '-....-', '+': '.-.-.', '\"': '.-..-.', '?': '..--..', '/': '-..-.'\n",
        "}\n",
        "\n",
        "def encode(message):\n",
        "    message = message.upper()\n",
        "    message = message.replace(\" \", \"\")\n",
        "\n",
        "    encoded = ''  \n",
        "    value = len(message)\n",
        "\n",
        "    for letra in message:\n",
        "      value = value - 1\n",
        "      encoded += char_to_dots[letra]\n",
        "      \n",
        "      if value > 0 and letra != ' ':\n",
        "        encoded += ' '\n",
        "\n",
        "    return encoded\n",
        "\n",
        "\n",
        "output = encode(\"HElP mE!\")\n",
        "\n",
        "print(output)\n",
        "\n"
      ],
      "execution_count": 64,
      "outputs": [
        {
          "output_type": "stream",
          "text": [
            ".... . .-.. .--. -- . -.-.--\n"
          ],
          "name": "stdout"
        }
      ]
    },
    {
      "cell_type": "code",
      "metadata": {
        "id": "v1IQss8BL0pM"
      },
      "source": [
        ""
      ],
      "execution_count": 5,
      "outputs": []
    }
  ]
}